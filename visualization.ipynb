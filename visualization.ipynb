{
 "cells": [
  {
   "cell_type": "code",
   "execution_count": 12,
   "id": "964d7466",
   "metadata": {},
   "outputs": [],
   "source": [
    "import tensorflow as tf\n",
    "import numpy as np\n",
    "import matplotlib.pyplot as plt\n",
    "import seaborn as sns\n",
    "from sklearn.metrics import (\n",
    "    roc_curve, auc, precision_recall_curve,\n",
    "    average_precision_score, classification_report,\n",
    "    confusion_matrix, ConfusionMatrixDisplay\n",
    ")\n",
    "from sklearn.calibration import calibration_curve\n",
    "from tensorflow.keras.models import load_model\n",
    "from tensorflow.keras.applications.mobilenet_v3 import preprocess_input\n",
    "import time\n",
    "import cv2"
   ]
  },
  {
   "cell_type": "markdown",
   "id": "defc373f",
   "metadata": {},
   "source": [
    "# **CONFIGURATION AND DATA LOADING**"
   ]
  },
  {
   "cell_type": "code",
   "execution_count": 13,
   "id": "779801c9",
   "metadata": {},
   "outputs": [
    {
     "name": "stdout",
     "output_type": "stream",
     "text": [
      "--- BLOCK 1: SETUP AND DATA LOADING ---\n",
      "Loading model from anemia_model.keras...\n",
      "✅ Model loaded successfully.\n",
      "Found 99 files belonging to 2 classes.\n",
      "✅ Class names found: ['anemia', 'non-anemia']\n",
      "Generating predictions on the test set...\n",
      "\u001b[1m7/7\u001b[0m \u001b[32m━━━━━━━━━━━━━━━━━━━━\u001b[0m\u001b[37m\u001b[0m \u001b[1m4s\u001b[0m 203ms/step\n",
      "✅ Predictions generated.\n"
     ]
    }
   ],
   "source": [
    "print(\"--- BLOCK 1: SETUP AND DATA LOADING ---\")\n",
    "\n",
    "# --- Paths and Constants ---\n",
    "MODEL_PATH = \"anemia_model.keras\"\n",
    "TEST_DIR = \"dataset/test\"\n",
    "IMG_SIZE = (224, 224)\n",
    "BATCH_SIZE = 16\n",
    "AUTOTUNE = tf.data.AUTOTUNE\n",
    "\n",
    "# --- Load the saved model ---\n",
    "print(f\"Loading model from {MODEL_PATH}...\")\n",
    "model = load_model(MODEL_PATH)\n",
    "print(\"✅ Model loaded successfully.\")\n",
    "\n",
    "# --- Create the test dataset (unshuffled for consistent evaluation) ---\n",
    "def apply_preprocessing(image, label):\n",
    "    \"\"\"Applies the MobileNetV3 preprocessing function.\"\"\"\n",
    "    return preprocess_input(image), label\n",
    "\n",
    "test_ds = tf.keras.utils.image_dataset_from_directory(\n",
    "    TEST_DIR, label_mode='int', image_size=IMG_SIZE,\n",
    "    batch_size=BATCH_SIZE, shuffle=False\n",
    ")\n",
    "\n",
    "class_names = test_ds.class_names\n",
    "print(f\"✅ Class names found: {class_names}\")\n",
    "\n",
    "test_ds = test_ds.map(apply_preprocessing).prefetch(buffer_size=AUTOTUNE)\n",
    "\n",
    "# --- Get predictions and true labels ---\n",
    "print(\"Generating predictions on the test set...\")\n",
    "y_pred_probs = model.predict(test_ds).flatten()\n",
    "y_true = np.concatenate([y for _, y in test_ds], axis=0)\n",
    "print(\"✅ Predictions generated.\")"
   ]
  },
  {
   "cell_type": "markdown",
   "id": "d63bf432",
   "metadata": {},
   "source": [
    "# **PERFORMANCE REPORTS**"
   ]
  },
  {
   "cell_type": "code",
   "execution_count": 14,
   "id": "3f0caed3",
   "metadata": {},
   "outputs": [
    {
     "name": "stdout",
     "output_type": "stream",
     "text": [
      "\n",
      "--- BLOCK 2: PERFORMANCE ANALYSIS & THRESHOLD OPTIMIZATION ---\n",
      "'anemia' corresponds to class index: 0\n",
      "\n",
      "--- Performance with Default Threshold (0.5) ---\n",
      "              precision    recall  f1-score   support\n",
      "\n",
      "  non-anemia       0.79      0.81      0.80        52\n",
      "      anemia       0.78      0.77      0.77        47\n",
      "\n",
      "    accuracy                           0.79        99\n",
      "   macro avg       0.79      0.79      0.79        99\n",
      "weighted avg       0.79      0.79      0.79        99\n",
      "\n",
      "\n",
      "✅ Automatically found optimal threshold: 0.1641\n",
      "This threshold balances sensitivity and specificity to maximize detection.\n",
      "\n",
      "--- FINAL Performance with Optimized Threshold ---\n",
      "              precision    recall  f1-score   support\n",
      "\n",
      "  non-anemia       0.95      0.73      0.83        52\n",
      "      anemia       0.76      0.96      0.85        47\n",
      "\n",
      "    accuracy                           0.84        99\n",
      "   macro avg       0.86      0.84      0.84        99\n",
      "weighted avg       0.86      0.84      0.84        99\n",
      "\n"
     ]
    }
   ],
   "source": [
    "print(\"\\n--- BLOCK 2: PERFORMANCE ANALYSIS & THRESHOLD OPTIMIZATION ---\")\n",
    "\n",
    "# --- Find which class index corresponds to 'anemia' ---\n",
    "anemia_class_index = class_names.index('anemia')\n",
    "print(f\"'anemia' corresponds to class index: {anemia_class_index}\")\n",
    "\n",
    "# --- **CRITICAL FIX**: Standardize scores to represent the 'anemia' class probability ---\n",
    "# This resolves the label inversion bug.\n",
    "if anemia_class_index == 1:\n",
    "    y_scores = y_pred_probs # High score means anemia\n",
    "else: # anemia_class_index == 0\n",
    "    y_scores = 1 - y_pred_probs # High score (after inversion) means anemia\n",
    "\n",
    "# Now, 'y_true' labels need to be 1 for 'anemia' and 0 for 'non-anemia'\n",
    "y_true_positive = (y_true == anemia_class_index).astype(int)\n",
    "\n",
    "# --- Calculate performance with the default 0.5 threshold ---\n",
    "print(\"\\n--- Performance with Default Threshold (0.5) ---\")\n",
    "y_pred_default = (y_scores > 0.5).astype(int)\n",
    "print(classification_report(y_true_positive, y_pred_default, target_names=['non-anemia', 'anemia']))\n",
    "\n",
    "# --- Automatically find the optimal threshold from the ROC curve ---\n",
    "fpr, tpr, thresholds = roc_curve(y_true_positive, y_scores)\n",
    "j_scores = tpr - fpr # Youden's J statistic\n",
    "best_j_index = np.argmax(j_scores)\n",
    "OPTIMIZED_THRESHOLD = thresholds[best_j_index]\n",
    "\n",
    "print(f\"\\n✅ Automatically found optimal threshold: {OPTIMIZED_THRESHOLD:.4f}\")\n",
    "print(\"This threshold balances sensitivity and specificity to maximize detection.\")\n",
    "\n",
    "# --- Calculate final performance with the OPTIMIZED threshold ---\n",
    "print(\"\\n--- FINAL Performance with Optimized Threshold ---\")\n",
    "y_pred_optimized = (y_scores > OPTIMIZED_THRESHOLD).astype(int)\n",
    "print(classification_report(y_true_positive, y_pred_optimized, target_names=['non-anemia', 'anemia']))"
   ]
  },
  {
   "cell_type": "code",
   "execution_count": 15,
   "id": "d53b6c41",
   "metadata": {},
   "outputs": [
    {
     "name": "stdout",
     "output_type": "stream",
     "text": [
      "\n",
      "--- BLOCK 3: GENERATING CONFUSION MATRICES ---\n"
     ]
    },
    {
     "data": {
      "text/plain": [
       "<Figure size 1400x600 with 4 Axes>"
      ]
     },
     "metadata": {},
     "output_type": "display_data"
    },
    {
     "name": "stdout",
     "output_type": "stream",
     "text": [
      "✅ Confusion matrices generated. Note the decrease in missed anemia cases (bottom-left).\n"
     ]
    }
   ],
   "source": [
    "print(\"\\n--- BLOCK 3: GENERATING CONFUSION MATRICES ---\")\n",
    "\n",
    "def plot_confusion_matrices(y_true, y_pred_default, y_pred_optimized, display_labels):\n",
    "    \"\"\"Plots side-by-side confusion matrices to show the effect of optimization.\"\"\"\n",
    "    fig, axes = plt.subplots(1, 2, figsize=(14, 6))\n",
    "    \n",
    "    # Default Threshold Matrix\n",
    "    cm_default = confusion_matrix(y_true, y_pred_default)\n",
    "    disp_default = ConfusionMatrixDisplay(confusion_matrix=cm_default, display_labels=display_labels)\n",
    "    disp_default.plot(ax=axes[0], cmap='Blues')\n",
    "    axes[0].set_title('Confusion Matrix (Default Threshold = 0.5)')\n",
    "    \n",
    "    # Optimized Threshold Matrix\n",
    "    cm_optimized = confusion_matrix(y_true, y_pred_optimized)\n",
    "    disp_optimized = ConfusionMatrixDisplay(confusion_matrix=cm_optimized, display_labels=display_labels)\n",
    "    disp_optimized.plot(ax=axes[1], cmap='Greens')\n",
    "    axes[1].set_title(f'Confusion Matrix (Optimized Threshold = {OPTIMIZED_THRESHOLD:.2f})')\n",
    "    \n",
    "    fig.suptitle('Impact of Threshold Optimization on Predictions', fontsize=16)\n",
    "    plt.tight_layout()\n",
    "    plt.show()\n",
    "\n",
    "# This is the function call that generates \"Hình 4.2\"\n",
    "plot_confusion_matrices(y_true_positive, y_pred_default, y_pred_optimized, ['non-anemia', 'anemia'])\n",
    "print(\"✅ Confusion matrices generated. Note the decrease in missed anemia cases (bottom-left).\")"
   ]
  },
  {
   "cell_type": "code",
   "execution_count": 16,
   "id": "0ddcf5e9",
   "metadata": {},
   "outputs": [
    {
     "name": "stdout",
     "output_type": "stream",
     "text": [
      "\n",
      "--- BLOCK 4: GENERATING CORE PERFORMANCE CURVES ---\n"
     ]
    },
    {
     "data": {
      "text/plain": [
       "<Figure size 1400x600 with 2 Axes>"
      ]
     },
     "metadata": {},
     "output_type": "display_data"
    },
    {
     "name": "stdout",
     "output_type": "stream",
     "text": [
      "✅ ROC and PR curves generated.\n"
     ]
    }
   ],
   "source": [
    "print(\"\\n--- BLOCK 4: GENERATING CORE PERFORMANCE CURVES ---\")\n",
    "\n",
    "def plot_roc_and_pr_curves(y_true_positive, y_scores):\n",
    "    plt.figure(figsize=(14, 6))\n",
    "    # ROC Curve\n",
    "    fpr, tpr, _ = roc_curve(y_true_positive, y_scores)\n",
    "    roc_auc = auc(fpr, tpr)\n",
    "    plt.subplot(1, 2, 1)\n",
    "    plt.plot(fpr, tpr, color='darkorange', lw=2, label=f'ROC curve (AUC = {roc_auc:.2f})')\n",
    "    plt.plot([0, 1], [0, 1], color='navy', lw=2, linestyle='--')\n",
    "    plt.xlabel('False Positive Rate'); plt.ylabel('True Positive Rate')\n",
    "    plt.title('Receiver Operating Characteristic (ROC) Curve')\n",
    "    plt.legend(loc=\"lower right\"); plt.grid(True)\n",
    "    # Precision-Recall Curve\n",
    "    precision, recall, _ = precision_recall_curve(y_true_positive, y_scores)\n",
    "    avg_precision = average_precision_score(y_true_positive, y_scores)\n",
    "    plt.subplot(1, 2, 2)\n",
    "    plt.plot(recall, precision, color='blue', lw=2, label=f'PR curve (AP = {avg_precision:.2f})')\n",
    "    plt.xlabel('Recall'); plt.ylabel('Precision')\n",
    "    plt.title('Precision-Recall Curve')\n",
    "    plt.legend(loc=\"lower left\"); plt.grid(True)\n",
    "    plt.tight_layout(); plt.show()\n",
    "\n",
    "# Use the standardized scores for plotting\n",
    "plot_roc_and_pr_curves(y_true_positive, y_scores)\n",
    "print(\"✅ ROC and PR curves generated.\")"
   ]
  },
  {
   "cell_type": "code",
   "execution_count": 17,
   "id": "b8c5934e",
   "metadata": {},
   "outputs": [
    {
     "name": "stdout",
     "output_type": "stream",
     "text": [
      "\n",
      "--- BLOCK 5: DETAILED PREDICTION SCORE ANALYSIS ---\n"
     ]
    },
    {
     "data": {
      "text/plain": [
       "<Figure size 1200x700 with 1 Axes>"
      ]
     },
     "metadata": {},
     "output_type": "display_data"
    },
    {
     "name": "stdout",
     "output_type": "stream",
     "text": [
      "✅ Detailed score analysis plot generated.\n",
      "This plot shows every prediction, revealing where errors occur and the impact of the optimized threshold.\n"
     ]
    }
   ],
   "source": [
    "print(\"\\n--- BLOCK 5: DETAILED PREDICTION SCORE ANALYSIS ---\")\n",
    "\n",
    "def plot_prediction_scores(y_true, y_scores, default_thresh, opt_thresh):\n",
    "    \"\"\"\n",
    "    Creates a strip plot to visualize the distribution of prediction scores\n",
    "    for each true class, color-coded by prediction correctness.\n",
    "    \"\"\"\n",
    "    # Create masks for each outcome\n",
    "    tp_mask = (y_true == 1) & (y_scores > opt_thresh)\n",
    "    tn_mask = (y_true == 0) & (y_scores <= opt_thresh)\n",
    "    fp_mask = (y_true == 0) & (y_scores > opt_thresh)\n",
    "    fn_mask = (y_true == 1) & (y_scores <= opt_thresh)\n",
    "\n",
    "    plt.figure(figsize=(12, 7))\n",
    "    \n",
    "    # Plot each point with jitter for better visibility\n",
    "    plt.scatter(y_scores[tp_mask], np.random.normal(1, 0.08, size=np.sum(tp_mask)), \n",
    "                color='green', alpha=0.6, label='True Positive')\n",
    "    plt.scatter(y_scores[tn_mask], np.random.normal(0, 0.08, size=np.sum(tn_mask)), \n",
    "                color='blue', alpha=0.6, label='True Negative')\n",
    "    plt.scatter(y_scores[fp_mask], np.random.normal(0, 0.08, size=np.sum(fp_mask)), \n",
    "                color='orange', alpha=0.8, marker='x', s=80, label='False Positive (Error)')\n",
    "    plt.scatter(y_scores[fn_mask], np.random.normal(1, 0.08, size=np.sum(fn_mask)), \n",
    "                color='red', alpha=0.8, marker='x', s=80, label='False Negative (Error)')\n",
    "\n",
    "    # Add threshold lines\n",
    "    plt.axvline(x=default_thresh, color='grey', linestyle='--', label=f'Default Threshold ({default_thresh})')\n",
    "    plt.axvline(x=opt_thresh, color='purple', linestyle='-', lw=2, label=f'Optimized Threshold ({opt_thresh:.2f})')\n",
    "    \n",
    "    plt.yticks([0, 1], ['True Class: Non-Anemia', 'True Class: Anemia'])\n",
    "    plt.xlabel('Model Prediction Score for \"Anemia\"')\n",
    "    plt.title('Detailed Analysis of Individual Prediction Scores')\n",
    "    plt.legend()\n",
    "    plt.grid(axis='x', linestyle=':')\n",
    "    plt.show()\n",
    "\n",
    "plot_prediction_scores(y_true_positive, y_scores, 0.5, OPTIMIZED_THRESHOLD)\n",
    "print(\"✅ Detailed score analysis plot generated.\")\n",
    "print(\"This plot shows every prediction, revealing where errors occur and the impact of the optimized threshold.\")"
   ]
  },
  {
   "cell_type": "markdown",
   "id": "712c5c91",
   "metadata": {},
   "source": [
    "**FUTURE WORK DEMONSTRATION: ROI CROPPING**"
   ]
  },
  {
   "cell_type": "code",
   "execution_count": 18,
   "id": "f3ec662e",
   "metadata": {},
   "outputs": [
    {
     "name": "stdout",
     "output_type": "stream",
     "text": [
      "\n",
      "--- BLOCK 4: FUTURE WORK DEMO - ROI CROPPING ---\n",
      "This demonstrates the critical next step: focusing the model on the correct anatomy.\n",
      "Found 99 files belonging to 2 classes.\n"
     ]
    },
    {
     "data": {
      "text/plain": [
       "<Figure size 1000x500 with 2 Axes>"
      ]
     },
     "metadata": {},
     "output_type": "display_data"
    },
    {
     "name": "stdout",
     "output_type": "stream",
     "text": [
      "✅ ROI cropping demonstration complete.\n"
     ]
    }
   ],
   "source": [
    "print(\"\\n--- BLOCK 4: FUTURE WORK DEMO - ROI CROPPING ---\")\n",
    "print(\"This demonstrates the critical next step: focusing the model on the correct anatomy.\")\n",
    "\n",
    "def crop_to_roi(image, crop_fraction=0.75):\n",
    "    \"\"\"Crops an image to its central region.\"\"\"\n",
    "    original_height, original_width, _ = image.shape\n",
    "    new_height = int(original_height * crop_fraction)\n",
    "    new_width = int(original_width * crop_fraction)\n",
    "    \n",
    "    start_y = (original_height - new_height) // 2\n",
    "    start_x = (original_width - new_width) // 2\n",
    "    \n",
    "    cropped_image = image[start_y:start_y + new_height, start_x:start_x + new_width]\n",
    "    return cropped_image\n",
    "\n",
    "# Load one random, un-preprocessed image for the demo\n",
    "unprocessed_ds = tf.keras.utils.image_dataset_from_directory(\n",
    "    TEST_DIR, label_mode='int', image_size=IMG_SIZE, batch_size=1, shuffle=True, seed=42\n",
    ")\n",
    "sample_img_tensor, _ = next(iter(unprocessed_ds))\n",
    "sample_img = sample_img_tensor[0].numpy().astype('uint8')\n",
    "\n",
    "# Apply the crop\n",
    "cropped_img = crop_to_roi(sample_img)\n",
    "\n",
    "# Display the comparison\n",
    "plt.figure(figsize=(10, 5))\n",
    "plt.subplot(1, 2, 1)\n",
    "plt.imshow(sample_img)\n",
    "plt.title(\"Original Image (Full View)\")\n",
    "plt.axis('off')\n",
    "plt.subplot(1, 2, 2)\n",
    "plt.imshow(cropped_img)\n",
    "plt.title(\"ROI Cropped Image (Focused View)\")\n",
    "plt.axis('off')\n",
    "plt.suptitle(\"Proposed Pre-processing Step to Improve Model Focus\", fontsize=14)\n",
    "plt.show()\n",
    "print(\"✅ ROI cropping demonstration complete.\")"
   ]
  },
  {
   "cell_type": "markdown",
   "id": "1265192d",
   "metadata": {},
   "source": [
    "**MODEL EXPLANATION (OCCLUSION SENSITIVITY)**"
   ]
  },
  {
   "cell_type": "code",
   "execution_count": 19,
   "id": "955ff08c",
   "metadata": {},
   "outputs": [
    {
     "name": "stdout",
     "output_type": "stream",
     "text": [
      "\n",
      "--- BLOCK 5: GENERATING MODEL EXPLANATIONS (OCCLUSION MAPS) ---\n",
      "Generating Occlusion Map (this may take a minute)...\n",
      "  Processed 400/441 patches...\n",
      "Occlusion map generated.\n"
     ]
    },
    {
     "data": {
      "text/plain": [
       "<Figure size 1200x600 with 2 Axes>"
      ]
     },
     "metadata": {},
     "output_type": "display_data"
    },
    {
     "name": "stdout",
     "output_type": "stream",
     "text": [
      "Generating Occlusion Map (this may take a minute)...\n",
      "  Processed 400/441 patches...\n",
      "Occlusion map generated.\n"
     ]
    },
    {
     "data": {
      "text/plain": [
       "<Figure size 1200x600 with 2 Axes>"
      ]
     },
     "metadata": {},
     "output_type": "display_data"
    },
    {
     "name": "stdout",
     "output_type": "stream",
     "text": [
      "Generating Occlusion Map (this may take a minute)...\n",
      "  Processed 400/441 patches...\n",
      "Occlusion map generated.\n"
     ]
    },
    {
     "data": {
      "text/plain": [
       "<Figure size 1200x600 with 2 Axes>"
      ]
     },
     "metadata": {},
     "output_type": "display_data"
    },
    {
     "name": "stdout",
     "output_type": "stream",
     "text": [
      "\n",
      "✅ All presentation visuals generated successfully.\n"
     ]
    }
   ],
   "source": [
    "print(\"\\n--- BLOCK 5: GENERATING MODEL EXPLANATIONS (OCCLUSION MAPS) ---\")\n",
    "\n",
    "def generate_occlusion_sensitivity(model, img, patch_size=20, stride=10):\n",
    "    img_height, img_width, _ = img.shape\n",
    "    heatmap = np.zeros((img_height, img_width))\n",
    "    original_img_preprocessed = preprocess_input(np.expand_dims(img, axis=0))\n",
    "    baseline_pred = model.predict(original_img_preprocessed, verbose=0)[0][0]\n",
    "    \n",
    "    print(\"Generating Occlusion Map (this may take a minute)...\")\n",
    "    total_patches = len(range(0, img_height - patch_size + 1, stride)) * len(range(0, img_width - patch_size + 1, stride))\n",
    "    patch_count = 0\n",
    "    for y in range(0, img_height - patch_size + 1, stride):\n",
    "        for x in range(0, img_width - patch_size + 1, stride):\n",
    "            patch_count += 1\n",
    "            occluded_img = img.copy()\n",
    "            occluded_img[y:y+patch_size, x:x+patch_size] = 128\n",
    "            occluded_img_preprocessed = preprocess_input(np.expand_dims(occluded_img, axis=0))\n",
    "            prediction = model.predict(occluded_img_preprocessed, verbose=0)[0][0]\n",
    "            score_change = baseline_pred - prediction\n",
    "            heatmap[y:y+patch_size, x:x+patch_size] += score_change\n",
    "            if patch_count % 50 == 0:\n",
    "                print(f\"  Processed {patch_count}/{total_patches} patches...\", end='\\r')\n",
    "    print(f\"\\nOcclusion map generated.\")\n",
    "    if np.max(heatmap) > 0:\n",
    "        heatmap = (heatmap - np.min(heatmap)) / (np.max(heatmap) - np.min(heatmap))\n",
    "    return heatmap\n",
    "\n",
    "# Use the shuffled, unprocessed dataset for random examples\n",
    "for i, (img_tensor, label) in enumerate(unprocessed_ds.take(3)):\n",
    "    original_img = img_tensor[0].numpy().astype('uint8')\n",
    "    \n",
    "    # Get model prediction details using the standardized score\n",
    "    prediction_prob_raw = model.predict(preprocess_input(np.expand_dims(original_img, axis=0)), verbose=0)[0][0]\n",
    "    \n",
    "    if anemia_class_index == 1:\n",
    "        anemia_score = prediction_prob_raw\n",
    "    else:\n",
    "        anemia_score = 1 - prediction_prob_raw\n",
    "        \n",
    "    # USE THE OPTIMIZED THRESHOLD FOR THE PREDICTED CLASS LABEL\n",
    "    prediction_class = 'anemia' if anemia_score > OPTIMIZED_THRESHOLD else 'non-anemia'\n",
    "    true_class = class_names[label.numpy()[0]]\n",
    "    \n",
    "    heatmap = generate_occlusion_sensitivity(model, original_img)\n",
    "    \n",
    "    # Display results\n",
    "    plt.figure(figsize=(12, 6))\n",
    "    plt.subplot(1, 2, 1)\n",
    "    plt.imshow(original_img)\n",
    "    plt.title(f\"Original Image\\nTrue Class: {true_class}\")\n",
    "    plt.axis('off')\n",
    "    plt.subplot(1, 2, 2)\n",
    "    plt.imshow(original_img, alpha=0.6)\n",
    "    plt.imshow(heatmap, cmap='jet', alpha=0.4)\n",
    "    plt.title(f\"Occlusion Heatmap\\nPredicted: {prediction_class} (Score: {anemia_score:.2f})\")\n",
    "    plt.axis('off')\n",
    "    plt.suptitle(f\"Model Explanation Example {i+1}\", fontsize=14)\n",
    "    plt.tight_layout()\n",
    "    plt.show()\n",
    "\n",
    "print(\"\\n✅ All presentation visuals generated successfully.\")"
   ]
  }
 ],
 "metadata": {
  "kernelspec": {
   "display_name": "Python 3",
   "language": "python",
   "name": "python3"
  },
  "language_info": {
   "codemirror_mode": {
    "name": "ipython",
    "version": 3
   },
   "file_extension": ".py",
   "mimetype": "text/x-python",
   "name": "python",
   "nbconvert_exporter": "python",
   "pygments_lexer": "ipython3",
   "version": "3.11.5"
  }
 },
 "nbformat": 4,
 "nbformat_minor": 5
}
